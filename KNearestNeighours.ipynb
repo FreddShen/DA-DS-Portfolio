{
 "cells": [
  {
   "cell_type": "markdown",
   "metadata": {},
   "source": [
    "## Using Sklearn"
   ]
  },
  {
   "cell_type": "code",
   "execution_count": 1,
   "metadata": {},
   "outputs": [],
   "source": [
    "from sklearn import neighbors\n",
    "from sklearn.model_selection import train_test_split\n",
    "from sklearn import datasets\n",
    "import numpy as np\n",
    "import matplotlib.pyplot as plt\n",
    "from scipy import stats\n",
    "%matplotlib inline"
   ]
  },
  {
   "cell_type": "code",
   "execution_count": 2,
   "metadata": {},
   "outputs": [
    {
     "name": "stdout",
     "output_type": "stream",
     "text": [
      "The X values are a 64 digit string: [ 0.  0.  4. 10. 16. 16.  7.  0.  0.  3. 16. 13. 11. 16.  2.  0.  0.  1.\n",
      "  3.  0. 10.  9.  0.  0.  0.  0.  5.  8. 14. 15. 13.  0.  0.  0. 15. 16.\n",
      " 14. 12.  8.  0.  0.  0.  3. 12.  7.  0.  0.  0.  0.  0.  0. 15.  4.  0.\n",
      "  0.  0.  0.  0.  3. 14.  1.  0.  0.  0.]\n",
      "and the y is the value of the number 7\n"
     ]
    },
    {
     "data": {
      "image/png": "[encoded data removed]",
      "text/plain": [
       "<Figure size 432x288 with 1 Axes>"
      ]
     },
     "metadata": {
      "needs_background": "light"
     },
     "output_type": "display_data"
    }
   ],
   "source": [
    "digits = datasets.load_digits()\n",
    "\n",
    "X = digits['data']   # data with each 8x8 image \"flattened\" into a length-64 vector.\n",
    "Y = digits['target'] # data labels (0-9). \n",
    "\n",
    "# what's the 653rd data look like?\n",
    "n = 653\n",
    "\n",
    "plt.imshow(digits['images'][n], cmap='Greys_r')\n",
    "plt.title('This is a %d' % digits['target'][n])\n",
    "\n",
    "print(\"The X values are a 64 digit string:\", X[n])\n",
    "print(\"and the y is the value of the number\", Y[n])"
   ]
  },
  {
   "cell_type": "code",
   "execution_count": 17,
   "metadata": {},
   "outputs": [],
   "source": [
    "# split for training and testing, 80%-20% for training-testing\n",
    "X_train, X_test, Y_train, Y_test = train_test_split(X,Y, test_size=0.2)"
   ]
  },
  {
   "cell_type": "markdown",
   "metadata": {},
   "source": [
    "## Questions\n",
    "\n",
    "1. How big is the full data set? How many numbers in training set?  How many are held back in the test set?  You should have 30% in your test set.\n",
    "2. What is the L1 distance between `X[15]` and `X[25]`?  (Manhattan)\n",
    "3. What is the L2 distance between `X[15]` and `X[25]`?  (Euclidean)\n",
    "4. What is the L3 distance between `X[15]` and `X[25]`?\n",
    "\n",
    "\n"
   ]
  },
  {
   "cell_type": "code",
   "execution_count": 18,
   "metadata": {},
   "outputs": [
    {
     "name": "stdout",
     "output_type": "stream",
     "text": [
      "total number of rows: 1797\n",
      "total number of cols: 64\n",
      "total number of training data: 1437\n"
     ]
    }
   ],
   "source": [
    "# how many data in total, training and testing?\n",
    "print('total number of rows:', np.shape(X)[0])\n",
    "print('total number of cols:', np.shape(X)[1])\n",
    "print('total number of training data:', np.shape(X_train)[0])"
   ]
  },
  {
   "cell_type": "code",
   "execution_count": 24,
   "metadata": {},
   "outputs": [
    {
     "name": "stdout",
     "output_type": "stream",
     "text": [
      "L1 Manhattan distance between X[15] and X[25] is: 155.0\n",
      "L2 Euclidean distance between X[15] and X[25] is: 33.926390907374746\n",
      "L3 Minkowski distance between X[15] and X[25] is: 21.83415234319978\n"
     ]
    }
   ],
   "source": [
    "from scipy.spatial import distance\n",
    "# What is the L1 distance between X[15] and X[25]?\n",
    "print('L1 Manhattan distance between X[15] and X[25] is:', distance.cityblock(X[15], X[25]))\n",
    "\n",
    "# What is the L2 distance between X[15] and X[25]?\n",
    "print('L2 Euclidean distance between X[15] and X[25] is:', distance.euclidean(X[15], X[25]))\n",
    "\n",
    "# What is the L3 distance between X[15] and X[25]?\n",
    "print('L3 Minkowski distance between X[15] and X[25] is:', distance.minkowski(X[15], X[25], 3))"
   ]
  },
  {
   "cell_type": "code",
   "execution_count": 30,
   "metadata": {},
   "outputs": [
    {
     "name": "stdout",
     "output_type": "stream",
     "text": [
      "The training error was:  0.016005567153792623\n",
      "The testing error was:  0.022222222222222223\n"
     ]
    }
   ],
   "source": [
    "# what model we are using?\n",
    "# p - using Euclidean distance\n",
    "cupcake = neighbors.KNeighborsClassifier(n_neighbors=15, p=2)\n",
    "\n",
    "# train the model!\n",
    "cupcake.fit(X_train,Y_train)\n",
    "\n",
    "# use it to predict!\n",
    "Y_pred_train = cupcake.predict(X_train) \n",
    "Y_pred = cupcake.predict(X_test)\n",
    "\n",
    "# how's the errors?\n",
    "error_train = list(Y_train == Y_pred_train).count(False)/len(Y_train)\n",
    "error_test = list(Y_test == Y_pred).count(False)/len(Y_test)\n",
    "\n",
    "print(\"The training error was: \", error_train)\n",
    "print(\"The testing error was: \", error_test)"
   ]
  },
  {
   "cell_type": "code",
   "execution_count": 35,
   "metadata": {},
   "outputs": [],
   "source": [
    "# what's the best number of neighbours?\n",
    "n_list = [i for i in range(3, 20)]\n",
    "\n",
    "def produce_error_vector(n, p=2, X_train=X_train, Y_train=Y_train, X_test=X_test, Y_test=Y_test):\n",
    "    model = neighbors.KNeighborsClassifier(n_neighbors=n, p=2)\n",
    "\n",
    "    # train the model!\n",
    "    model.fit(X_train,Y_train)\n",
    "\n",
    "    # use it to predict!\n",
    "    Y_pred_train = model.predict(X_train) \n",
    "    Y_pred = model.predict(X_test)\n",
    "\n",
    "    # how's the errors?\n",
    "    error_train = list(Y_train == Y_pred_train).count(False)/len(Y_train)\n",
    "    error_test = list(Y_test == Y_pred).count(False)/len(Y_test)\n",
    "    \n",
    "    return (error_train, error_test)\n",
    "\n",
    "train_errors = []\n",
    "test_errors = []\n",
    "\n",
    "for n in n_list:\n",
    "    train_errors.append(produce_error_vector(n)[0])\n",
    "    test_errors.append(produce_error_vector(n)[1])"
   ]
  },
  {
   "cell_type": "code",
   "execution_count": 39,
   "metadata": {},
   "outputs": [
    {
     "name": "stdout",
     "output_type": "stream",
     "text": [
      "the choice of n that results in the min train error is: 0\n",
      "the choice of n that results in the min test error is: 0\n",
      "the choice of n that results in the max train error is: 15\n",
      "the choice of n that results in the max test error is: 8\n"
     ]
    }
   ],
   "source": [
    "print('the choice of n that results in the min train error is:' ,train_errors.index(min(train_errors)))\n",
    "print('the choice of n that results in the min test error is:' ,test_errors.index(min(test_errors)))\n",
    "print('the choice of n that results in the max train error is:' ,train_errors.index(max(train_errors)))\n",
    "print('the choice of n that results in the max test error is:' ,test_errors.index(max(test_errors)))"
   ]
  }
 ],
 "metadata": {
  "kernelspec": {
   "display_name": "Python 3 (ipykernel)",
   "language": "python",
   "name": "python3"
  },
  "language_info": {
   "codemirror_mode": {
    "name": "ipython",
    "version": 3
   },
   "file_extension": ".py",
   "mimetype": "text/x-python",
   "name": "python",
   "nbconvert_exporter": "python",
   "pygments_lexer": "ipython3",
   "version": "3.9.10"
  }
 },
 "nbformat": 4,
 "nbformat_minor": 2
}
