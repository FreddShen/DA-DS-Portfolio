{
 "cells": [
  {
   "cell_type": "markdown",
   "metadata": {},
   "source": [
    "## Feature Selection "
   ]
  },
  {
   "cell_type": "code",
   "execution_count": 1,
   "metadata": {},
   "outputs": [],
   "source": [
    "import numpy as np\n",
    "import pandas\n",
    "import matplotlib.pyplot as plt\n",
    "%matplotlib inline\n",
    "import os\n",
    "\n",
    "from sklearn.model_selection import train_test_split\n",
    "from sklearn import datasets\n",
    "from sklearn import tree\n",
    "\n",
    "## documentation: https://scikit-learn.org/stable/modules/feature_selection.html\n",
    "from sklearn.feature_selection import VarianceThreshold\n",
    "from sklearn.feature_selection import SelectKBest\n",
    "from sklearn.feature_selection import chi2"
   ]
  },
  {
   "cell_type": "code",
   "execution_count": 2,
   "metadata": {},
   "outputs": [],
   "source": [
    "digits = datasets.load_digits()\n",
    "\n",
    "X = digits['data']\n",
    "Y = digits['target']\n",
    "\n",
    "X_train, X_test, Y_train, Y_test = train_test_split(X,Y, test_size=0.2, random_state = 2022)"
   ]
  },
  {
   "cell_type": "code",
   "execution_count": 4,
   "metadata": {
    "scrolled": true
   },
   "outputs": [
    {
     "name": "stdout",
     "output_type": "stream",
     "text": [
      "We have 64 features\n"
     ]
    }
   ],
   "source": [
    "print(\"We have\", X.shape[1], \"features\")"
   ]
  },
  {
   "cell_type": "markdown",
   "metadata": {},
   "source": [
    "## Drop constants / features with low variance\n",
    "\n",
    "- compute the variance / standard deviation of each column,\n",
    "- drop the small ones (below a threshold"
   ]
  },
  {
   "cell_type": "code",
   "execution_count": 5,
   "metadata": {},
   "outputs": [
    {
     "name": "stdout",
     "output_type": "stream",
     "text": [
      "The X values are a 64 digit string: [ 0.  0.  0.  3. 16.  3.  0.  0.  0.  0.  0. 12. 16.  2.  0.  0.  0.  0.\n",
      "  8. 16. 16.  4.  0.  0.  0.  7. 16. 15. 16. 12. 11.  0.  0.  8. 16. 16.\n",
      " 16. 13.  3.  0.  0.  0.  0.  7. 14.  1.  0.  0.  0.  0.  0.  6. 16.  0.\n",
      "  0.  0.  0.  0.  0.  4. 14.  0.  0.  0.]\n",
      "and the y is the value of the number 4\n"
     ]
    },
    {
     "data": {
      "image/png": "[encoded data removed]",
      "text/plain": [
       "<Figure size 432x288 with 1 Axes>"
      ]
     },
     "metadata": {
      "needs_background": "light"
     },
     "output_type": "display_data"
    }
   ],
   "source": [
    "## look at some numbers\n",
    "n = 134\n",
    "\n",
    "plt.imshow(digits['images'][n], cmap='Greys_r')\n",
    "plt.title('This is a %d' % digits['target'][n])\n",
    "\n",
    "print(\"The X values are a 64 digit string:\", X[n])\n",
    "print(\"and the y is the value of the number\", Y[n])"
   ]
  },
  {
   "cell_type": "code",
   "execution_count": 6,
   "metadata": {},
   "outputs": [
    {
     "name": "stdout",
     "output_type": "stream",
     "text": [
      "The smallest variance is:  0.0\n",
      "The largest variance is:  42.74485129261464\n",
      "Q1 of variances is:  1.0493836857519279\n"
     ]
    }
   ],
   "source": [
    "## Find all of the variances to develop better method\n",
    "df = pandas.DataFrame(X)\n",
    "var_array = df.var()\n",
    "\n",
    "print(\"The smallest variance is: \", min(var_array))\n",
    "print(\"The largest variance is: \", max(var_array))\n",
    "\n",
    "## the 25th percentile is:\n",
    "print(\"Q1 of variances is: \", np.quantile(var_array, .25))"
   ]
  },
  {
   "cell_type": "code",
   "execution_count": 52,
   "metadata": {},
   "outputs": [
    {
     "name": "stdout",
     "output_type": "stream",
     "text": [
      "We now have  61  features\n",
      "We dropped  3  features\n"
     ]
    }
   ],
   "source": [
    "## initialize at a threshold of 0\n",
    "drop_constants = VarianceThreshold(threshold = 0)\n",
    "\n",
    "## fit to drop all non-zero columns\n",
    "X_new = drop_constants.fit_transform(X)\n",
    "\n",
    "## Inspect results:\n",
    "drop_constants.variances_\n",
    "\n",
    "print(\"We now have \", X_new.shape[1], \" features\")\n",
    "print(\"We dropped \", X.shape[1]-X_new.shape[1],\" features\")"
   ]
  },
  {
   "cell_type": "code",
   "execution_count": 53,
   "metadata": {},
   "outputs": [
    {
     "name": "stdout",
     "output_type": "stream",
     "text": [
      "We now have  48  features\n",
      "We dropped  16  features\n"
     ]
    }
   ],
   "source": [
    "## Cut out 25% of numbers:\n",
    "Q1 = np.quantile(var_array,.25)\n",
    "\n",
    "drop_constants = VarianceThreshold(threshold = Q1)\n",
    "\n",
    "## fit to drop all non-zero columns\n",
    "X_new =drop_constants.fit_transform(X)\n",
    "\n",
    "## Inspect results:\n",
    "drop_constants.variances_\n",
    "\n",
    "print(\"We now have \", X_new.shape[1], \" features\")\n",
    "print(\"We dropped \", X.shape[1]-X_new.shape[1],\" features\")\n"
   ]
  },
  {
   "cell_type": "markdown",
   "metadata": {},
   "source": [
    "## Question\n",
    "\n",
    "Do we have a better model?  Let's use it!"
   ]
  },
  {
   "cell_type": "markdown",
   "metadata": {},
   "source": [
    "## Find the \"Best\" features:\n",
    "\n",
    "here, I present our old friend $\\chi^2$!"
   ]
  },
  {
   "cell_type": "code",
   "execution_count": 57,
   "metadata": {},
   "outputs": [],
   "source": [
    "##Explore!\n",
    "\n",
    "?SelectKBest"
   ]
  },
  {
   "cell_type": "code",
   "execution_count": 56,
   "metadata": {},
   "outputs": [
    {
     "name": "stdout",
     "output_type": "stream",
     "text": [
      "We now have  48  features\n",
      "We dropped  16  features\n"
     ]
    }
   ],
   "source": [
    "## pick the top 48 with the biggest chi-square values\n",
    "\n",
    "X_new = SelectKBest(chi2, k=48).fit_transform(X, Y)\n",
    "print(\"We now have \", X_new.shape[1], \" features\")\n",
    "print(\"We dropped \", X.shape[1]-X_new.shape[1],\" features\")"
   ]
  },
  {
   "cell_type": "code",
   "execution_count": null,
   "metadata": {},
   "outputs": [],
   "source": []
  }
 ],
 "metadata": {
  "kernelspec": {
   "display_name": "Python 3 (ipykernel)",
   "language": "python",
   "name": "python3"
  },
  "language_info": {
   "codemirror_mode": {
    "name": "ipython",
    "version": 3
   },
   "file_extension": ".py",
   "mimetype": "text/x-python",
   "name": "python",
   "nbconvert_exporter": "python",
   "pygments_lexer": "ipython3",
   "version": "3.9.10"
  }
 },
 "nbformat": 4,
 "nbformat_minor": 2
}
