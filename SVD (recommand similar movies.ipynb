{
 "cells": [
  {
   "cell_type": "markdown",
   "metadata": {},
   "source": [
    "## What movie should I watch?\n"
   ]
  },
  {
   "cell_type": "code",
   "execution_count": 1,
   "metadata": {},
   "outputs": [],
   "source": [
    "import random\n",
    "import pandas\n",
    "import matplotlib.pyplot as plt\n",
    "import numpy as np\n",
    "\n",
    "## this will optimize our math\n",
    "from scipy.sparse import csr_matrix as sparse_matrix\n",
    "\n",
    "from sklearn.neighbors import NearestNeighbors\n",
    "from sklearn.decomposition import TruncatedSVD\n",
    "\n",
    "import os"
   ]
  },
  {
   "cell_type": "code",
   "execution_count": 2,
   "metadata": {},
   "outputs": [
    {
     "name": "stdout",
     "output_type": "stream",
     "text": [
      "ratings shape:  (100004, 4)\n"
     ]
    },
    {
     "data": {
      "text/html": [
       "<div>\n",
       "<style scoped>\n",
       "    .dataframe tbody tr th:only-of-type {\n",
       "        vertical-align: middle;\n",
       "    }\n",
       "\n",
       "    .dataframe tbody tr th {\n",
       "        vertical-align: top;\n",
       "    }\n",
       "\n",
       "    .dataframe thead th {\n",
       "        text-align: right;\n",
       "    }\n",
       "</style>\n",
       "<table border=\"1\" class=\"dataframe\">\n",
       "  <thead>\n",
       "    <tr style=\"text-align: right;\">\n",
       "      <th></th>\n",
       "      <th>userId</th>\n",
       "      <th>movieId</th>\n",
       "      <th>rating</th>\n",
       "      <th>timestamp</th>\n",
       "    </tr>\n",
       "  </thead>\n",
       "  <tbody>\n",
       "    <tr>\n",
       "      <td>0</td>\n",
       "      <td>1</td>\n",
       "      <td>31</td>\n",
       "      <td>2.5</td>\n",
       "      <td>1260759144</td>\n",
       "    </tr>\n",
       "    <tr>\n",
       "      <td>1</td>\n",
       "      <td>1</td>\n",
       "      <td>1029</td>\n",
       "      <td>3.0</td>\n",
       "      <td>1260759179</td>\n",
       "    </tr>\n",
       "    <tr>\n",
       "      <td>2</td>\n",
       "      <td>1</td>\n",
       "      <td>1061</td>\n",
       "      <td>3.0</td>\n",
       "      <td>1260759182</td>\n",
       "    </tr>\n",
       "    <tr>\n",
       "      <td>3</td>\n",
       "      <td>1</td>\n",
       "      <td>1129</td>\n",
       "      <td>2.0</td>\n",
       "      <td>1260759185</td>\n",
       "    </tr>\n",
       "    <tr>\n",
       "      <td>4</td>\n",
       "      <td>1</td>\n",
       "      <td>1172</td>\n",
       "      <td>4.0</td>\n",
       "      <td>1260759205</td>\n",
       "    </tr>\n",
       "  </tbody>\n",
       "</table>\n",
       "</div>"
      ],
      "text/plain": [
       "   userId  movieId  rating   timestamp\n",
       "0       1       31     2.5  1260759144\n",
       "1       1     1029     3.0  1260759179\n",
       "2       1     1061     3.0  1260759182\n",
       "3       1     1129     2.0  1260759185\n",
       "4       1     1172     4.0  1260759205"
      ]
     },
     "execution_count": 2,
     "metadata": {},
     "output_type": "execute_result"
    }
   ],
   "source": [
    "## see the movie Lens dataset - described in the readme file\n",
    "ratings = pandas.read_csv(\"ratings.csv\")\n",
    "\n",
    "print(\"ratings shape: \", ratings.shape)\n",
    "ratings.head()"
   ]
  },
  {
   "cell_type": "code",
   "execution_count": 3,
   "metadata": {},
   "outputs": [
    {
     "data": {
      "text/html": [
       "<div>\n",
       "<style scoped>\n",
       "    .dataframe tbody tr th:only-of-type {\n",
       "        vertical-align: middle;\n",
       "    }\n",
       "\n",
       "    .dataframe tbody tr th {\n",
       "        vertical-align: top;\n",
       "    }\n",
       "\n",
       "    .dataframe thead th {\n",
       "        text-align: right;\n",
       "    }\n",
       "</style>\n",
       "<table border=\"1\" class=\"dataframe\">\n",
       "  <thead>\n",
       "    <tr style=\"text-align: right;\">\n",
       "      <th></th>\n",
       "      <th>userId</th>\n",
       "      <th>movieId</th>\n",
       "      <th>rating</th>\n",
       "      <th>timestamp</th>\n",
       "    </tr>\n",
       "  </thead>\n",
       "  <tbody>\n",
       "    <tr>\n",
       "      <td>count</td>\n",
       "      <td>100004.000000</td>\n",
       "      <td>100004.000000</td>\n",
       "      <td>100004.000000</td>\n",
       "      <td>1.000040e+05</td>\n",
       "    </tr>\n",
       "    <tr>\n",
       "      <td>mean</td>\n",
       "      <td>347.011310</td>\n",
       "      <td>12548.664363</td>\n",
       "      <td>3.543608</td>\n",
       "      <td>1.129639e+09</td>\n",
       "    </tr>\n",
       "    <tr>\n",
       "      <td>std</td>\n",
       "      <td>195.163838</td>\n",
       "      <td>26369.198969</td>\n",
       "      <td>1.058064</td>\n",
       "      <td>1.916858e+08</td>\n",
       "    </tr>\n",
       "    <tr>\n",
       "      <td>min</td>\n",
       "      <td>1.000000</td>\n",
       "      <td>1.000000</td>\n",
       "      <td>0.500000</td>\n",
       "      <td>7.896520e+08</td>\n",
       "    </tr>\n",
       "    <tr>\n",
       "      <td>25%</td>\n",
       "      <td>182.000000</td>\n",
       "      <td>1028.000000</td>\n",
       "      <td>3.000000</td>\n",
       "      <td>9.658478e+08</td>\n",
       "    </tr>\n",
       "    <tr>\n",
       "      <td>50%</td>\n",
       "      <td>367.000000</td>\n",
       "      <td>2406.500000</td>\n",
       "      <td>4.000000</td>\n",
       "      <td>1.110422e+09</td>\n",
       "    </tr>\n",
       "    <tr>\n",
       "      <td>75%</td>\n",
       "      <td>520.000000</td>\n",
       "      <td>5418.000000</td>\n",
       "      <td>4.000000</td>\n",
       "      <td>1.296192e+09</td>\n",
       "    </tr>\n",
       "    <tr>\n",
       "      <td>max</td>\n",
       "      <td>671.000000</td>\n",
       "      <td>163949.000000</td>\n",
       "      <td>5.000000</td>\n",
       "      <td>1.476641e+09</td>\n",
       "    </tr>\n",
       "  </tbody>\n",
       "</table>\n",
       "</div>"
      ],
      "text/plain": [
       "              userId        movieId         rating     timestamp\n",
       "count  100004.000000  100004.000000  100004.000000  1.000040e+05\n",
       "mean      347.011310   12548.664363       3.543608  1.129639e+09\n",
       "std       195.163838   26369.198969       1.058064  1.916858e+08\n",
       "min         1.000000       1.000000       0.500000  7.896520e+08\n",
       "25%       182.000000    1028.000000       3.000000  9.658478e+08\n",
       "50%       367.000000    2406.500000       4.000000  1.110422e+09\n",
       "75%       520.000000    5418.000000       4.000000  1.296192e+09\n",
       "max       671.000000  163949.000000       5.000000  1.476641e+09"
      ]
     },
     "execution_count": 3,
     "metadata": {},
     "output_type": "execute_result"
    }
   ],
   "source": [
    "ratings.describe()\n",
    "#movie_info.query(\"movieId ==1172\")"
   ]
  },
  {
   "cell_type": "code",
   "execution_count": 4,
   "metadata": {},
   "outputs": [
    {
     "name": "stdout",
     "output_type": "stream",
     "text": [
      "movie_info shape:  (9125, 3)\n"
     ]
    },
    {
     "data": {
      "text/html": [
       "<div>\n",
       "<style scoped>\n",
       "    .dataframe tbody tr th:only-of-type {\n",
       "        vertical-align: middle;\n",
       "    }\n",
       "\n",
       "    .dataframe tbody tr th {\n",
       "        vertical-align: top;\n",
       "    }\n",
       "\n",
       "    .dataframe thead th {\n",
       "        text-align: right;\n",
       "    }\n",
       "</style>\n",
       "<table border=\"1\" class=\"dataframe\">\n",
       "  <thead>\n",
       "    <tr style=\"text-align: right;\">\n",
       "      <th></th>\n",
       "      <th>movieId</th>\n",
       "      <th>title</th>\n",
       "      <th>genres</th>\n",
       "    </tr>\n",
       "  </thead>\n",
       "  <tbody>\n",
       "    <tr>\n",
       "      <td>0</td>\n",
       "      <td>1</td>\n",
       "      <td>Toy Story (1995)</td>\n",
       "      <td>Adventure|Animation|Children|Comedy|Fantasy</td>\n",
       "    </tr>\n",
       "    <tr>\n",
       "      <td>1</td>\n",
       "      <td>2</td>\n",
       "      <td>Jumanji (1995)</td>\n",
       "      <td>Adventure|Children|Fantasy</td>\n",
       "    </tr>\n",
       "    <tr>\n",
       "      <td>2</td>\n",
       "      <td>3</td>\n",
       "      <td>Grumpier Old Men (1995)</td>\n",
       "      <td>Comedy|Romance</td>\n",
       "    </tr>\n",
       "    <tr>\n",
       "      <td>3</td>\n",
       "      <td>4</td>\n",
       "      <td>Waiting to Exhale (1995)</td>\n",
       "      <td>Comedy|Drama|Romance</td>\n",
       "    </tr>\n",
       "    <tr>\n",
       "      <td>4</td>\n",
       "      <td>5</td>\n",
       "      <td>Father of the Bride Part II (1995)</td>\n",
       "      <td>Comedy</td>\n",
       "    </tr>\n",
       "  </tbody>\n",
       "</table>\n",
       "</div>"
      ],
      "text/plain": [
       "   movieId                               title  \\\n",
       "0        1                    Toy Story (1995)   \n",
       "1        2                      Jumanji (1995)   \n",
       "2        3             Grumpier Old Men (1995)   \n",
       "3        4            Waiting to Exhale (1995)   \n",
       "4        5  Father of the Bride Part II (1995)   \n",
       "\n",
       "                                        genres  \n",
       "0  Adventure|Animation|Children|Comedy|Fantasy  \n",
       "1                   Adventure|Children|Fantasy  \n",
       "2                               Comedy|Romance  \n",
       "3                         Comedy|Drama|Romance  \n",
       "4                                       Comedy  "
      ]
     },
     "execution_count": 4,
     "metadata": {},
     "output_type": "execute_result"
    }
   ],
   "source": [
    "## the 2nd dataset - the movies with ID and genre\n",
    "movie_info = pandas.read_csv(\"movies.csv\")\n",
    "\n",
    "print(\"movie_info shape: \", movie_info.shape)\n",
    "movie_info.head()"
   ]
  },
  {
   "cell_type": "code",
   "execution_count": 5,
   "metadata": {},
   "outputs": [
    {
     "name": "stdout",
     "output_type": "stream",
     "text": [
      "links shape:  (9125, 3)\n"
     ]
    },
    {
     "data": {
      "text/html": [
       "<div>\n",
       "<style scoped>\n",
       "    .dataframe tbody tr th:only-of-type {\n",
       "        vertical-align: middle;\n",
       "    }\n",
       "\n",
       "    .dataframe tbody tr th {\n",
       "        vertical-align: top;\n",
       "    }\n",
       "\n",
       "    .dataframe thead th {\n",
       "        text-align: right;\n",
       "    }\n",
       "</style>\n",
       "<table border=\"1\" class=\"dataframe\">\n",
       "  <thead>\n",
       "    <tr style=\"text-align: right;\">\n",
       "      <th></th>\n",
       "      <th>movieId</th>\n",
       "      <th>imdbId</th>\n",
       "      <th>tmdbId</th>\n",
       "    </tr>\n",
       "  </thead>\n",
       "  <tbody>\n",
       "    <tr>\n",
       "      <td>0</td>\n",
       "      <td>1</td>\n",
       "      <td>114709</td>\n",
       "      <td>862.0</td>\n",
       "    </tr>\n",
       "    <tr>\n",
       "      <td>1</td>\n",
       "      <td>2</td>\n",
       "      <td>113497</td>\n",
       "      <td>8844.0</td>\n",
       "    </tr>\n",
       "    <tr>\n",
       "      <td>2</td>\n",
       "      <td>3</td>\n",
       "      <td>113228</td>\n",
       "      <td>15602.0</td>\n",
       "    </tr>\n",
       "    <tr>\n",
       "      <td>3</td>\n",
       "      <td>4</td>\n",
       "      <td>114885</td>\n",
       "      <td>31357.0</td>\n",
       "    </tr>\n",
       "    <tr>\n",
       "      <td>4</td>\n",
       "      <td>5</td>\n",
       "      <td>113041</td>\n",
       "      <td>11862.0</td>\n",
       "    </tr>\n",
       "  </tbody>\n",
       "</table>\n",
       "</div>"
      ],
      "text/plain": [
       "   movieId  imdbId   tmdbId\n",
       "0        1  114709    862.0\n",
       "1        2  113497   8844.0\n",
       "2        3  113228  15602.0\n",
       "3        4  114885  31357.0\n",
       "4        5  113041  11862.0"
      ]
     },
     "execution_count": 5,
     "metadata": {},
     "output_type": "execute_result"
    }
   ],
   "source": [
    "## links gives us the IMDB ID and the movie database ID as a key\n",
    "links  = pandas.read_csv(\"data/links.csv\")\n",
    "\n",
    "print(\"links shape: \", links.shape)\n",
    "links.head()"
   ]
  },
  {
   "cell_type": "code",
   "execution_count": 6,
   "metadata": {},
   "outputs": [
    {
     "name": "stdout",
     "output_type": "stream",
     "text": [
      "Number of ratings: 100004\n",
      "The average rating: 3.543608255669773\n",
      "The median rating: 4.0\n",
      "The minimum rating: 0.5\n",
      "The maximum rating: 5.0\n",
      "Number of users: 671\n",
      "Number of movies: 9066\n",
      "Fraction nonzero: 0.016439141608663475\n",
      "Size of full X matrix (GB): 0.048666288\n"
     ]
    }
   ],
   "source": [
    "## describe the dataset:\n",
    "\n",
    "## def get_stats(ratings, item_key=\"item\", user_key=\"user\"):\n",
    "print(\"Number of ratings:\", len(ratings))\n",
    "print(\"The average rating:\", np.mean(ratings[\"rating\"]))\n",
    "print(\"The median rating:\", np.median(ratings[\"rating\"]))\n",
    "print(\"The minimum rating:\", min(ratings[\"rating\"]))\n",
    "print(\"The maximum rating:\", max(ratings[\"rating\"]))\n",
    "\n",
    "n = len(set(ratings[\"movieId\"]))\n",
    "d = len(set(ratings[\"userId\"]))\n",
    "print(\"Number of users:\", d)\n",
    "print(\"Number of movies:\", n)\n",
    "print(\"Fraction nonzero:\", len(ratings)/(n*d))\n",
    "   \n",
    "# size\n",
    "print(\"Size of full X matrix (GB):\", (n*d)*8/1e9)\n",
    "\n",
    "\n"
   ]
  },
  {
   "cell_type": "code",
   "execution_count": 7,
   "metadata": {},
   "outputs": [],
   "source": [
    "## this just goes from a matrix to a dictionary, and gives us some attributes we can call.\n",
    "def create_X(ratings,n,d,user_key=\"user\",item_key=\"item\"):\n",
    "    user_mapper = dict(zip(np.unique(ratings[user_key]), list(range(d))))\n",
    "    item_mapper = dict(zip(np.unique(ratings[item_key]), list(range(n))))\n",
    "\n",
    "    user_inverse_mapper = dict(zip(list(range(d)), np.unique(ratings[user_key])))\n",
    "    item_inverse_mapper = dict(zip(list(range(n)), np.unique(ratings[item_key])))\n",
    "\n",
    "    user_ind = [user_mapper[i] for i in ratings[user_key]]\n",
    "    item_ind = [item_mapper[i] for i in ratings[item_key]]\n",
    "\n",
    "    X = sparse_matrix((ratings[\"rating\"], (item_ind, user_ind)), shape=(n,d))\n",
    "    \n",
    "    return X, user_mapper, item_mapper, user_inverse_mapper, item_inverse_mapper, user_ind, item_ind"
   ]
  },
  {
   "cell_type": "code",
   "execution_count": 8,
   "metadata": {},
   "outputs": [],
   "source": [
    "X, user_mapper, item_mapper, user_inverse_mapper, item_inverse_mapper, user_ind, item_ind = create_X(ratings, n, d, user_key=\"userId\", item_key=\"movieId\")\n",
    "\n"
   ]
  },
  {
   "cell_type": "code",
   "execution_count": 9,
   "metadata": {},
   "outputs": [
    {
     "name": "stdout",
     "output_type": "stream",
     "text": [
      "X shape:  (9066, 671)  and nonzero elements:  100004\n",
      "And the file size in bytes: 800032\n"
     ]
    }
   ],
   "source": [
    "## Lets inspect:\n",
    "print(\"X shape: \",X.shape, \" and nonzero elements: \", X.nnz)\n",
    "print(\"And the file size in bytes:\", X.data.nbytes)"
   ]
  },
  {
   "cell_type": "code",
   "execution_count": 10,
   "metadata": {},
   "outputs": [
    {
     "name": "stdout",
     "output_type": "stream",
     "text": [
      "our fancy new toy story:    (0, 6)\t3.0\n",
      "  (0, 8)\t4.0\n",
      "  (0, 12)\t5.0\n",
      "  (0, 14)\t2.0\n",
      "  (0, 18)\t3.0\n",
      "  (0, 19)\t3.5\n",
      "  (0, 22)\t3.0\n",
      "  (0, 25)\t5.0\n",
      "  (0, 29)\t4.0\n",
      "  (0, 36)\t4.0\n",
      "  (0, 42)\t4.0\n",
      "  (0, 43)\t4.0\n",
      "  (0, 46)\t5.0\n",
      "  (0, 47)\t4.0\n",
      "  (0, 54)\t3.0\n",
      "  (0, 55)\t4.0\n",
      "  (0, 62)\t5.0\n",
      "  (0, 66)\t3.0\n",
      "  (0, 67)\t4.0\n",
      "  (0, 68)\t5.0\n",
      "  (0, 69)\t5.0\n",
      "  (0, 71)\t3.5\n",
      "  (0, 72)\t5.0\n",
      "  (0, 74)\t3.0\n",
      "  (0, 76)\t4.0\n",
      "  :\t:\n",
      "  (0, 593)\t4.0\n",
      "  (0, 594)\t5.0\n",
      "  (0, 595)\t3.5\n",
      "  (0, 596)\t5.0\n",
      "  (0, 597)\t4.5\n",
      "  (0, 602)\t4.0\n",
      "  (0, 606)\t4.5\n",
      "  (0, 607)\t4.0\n",
      "  (0, 614)\t4.0\n",
      "  (0, 615)\t4.0\n",
      "  (0, 622)\t4.5\n",
      "  (0, 623)\t5.0\n",
      "  (0, 629)\t4.0\n",
      "  (0, 635)\t3.0\n",
      "  (0, 640)\t4.0\n",
      "  (0, 645)\t5.0\n",
      "  (0, 646)\t4.0\n",
      "  (0, 648)\t4.0\n",
      "  (0, 652)\t4.0\n",
      "  (0, 653)\t5.0\n",
      "  (0, 659)\t2.5\n",
      "  (0, 662)\t4.0\n",
      "  (0, 663)\t3.5\n",
      "  (0, 669)\t4.0\n",
      "  (0, 670)\t5.0\n"
     ]
    }
   ],
   "source": [
    "## Lets look at Toy Story:\n",
    "toy_story_ind = 0\n",
    "toy_story_vec = X[toy_story_ind]\n",
    "\n",
    "print(\"our fancy new toy story: \", toy_story_vec)"
   ]
  },
  {
   "cell_type": "code",
   "execution_count": 11,
   "metadata": {},
   "outputs": [
    {
     "data": {
      "text/html": [
       "<div>\n",
       "<style scoped>\n",
       "    .dataframe tbody tr th:only-of-type {\n",
       "        vertical-align: middle;\n",
       "    }\n",
       "\n",
       "    .dataframe tbody tr th {\n",
       "        vertical-align: top;\n",
       "    }\n",
       "\n",
       "    .dataframe thead th {\n",
       "        text-align: right;\n",
       "    }\n",
       "</style>\n",
       "<table border=\"1\" class=\"dataframe\">\n",
       "  <thead>\n",
       "    <tr style=\"text-align: right;\">\n",
       "      <th></th>\n",
       "      <th>userId</th>\n",
       "      <th>movieId</th>\n",
       "      <th>rating</th>\n",
       "      <th>timestamp</th>\n",
       "    </tr>\n",
       "  </thead>\n",
       "  <tbody>\n",
       "    <tr>\n",
       "      <td>count</td>\n",
       "      <td>247.000000</td>\n",
       "      <td>247.0</td>\n",
       "      <td>247.000000</td>\n",
       "      <td>2.470000e+02</td>\n",
       "    </tr>\n",
       "    <tr>\n",
       "      <td>mean</td>\n",
       "      <td>338.558704</td>\n",
       "      <td>1.0</td>\n",
       "      <td>3.872470</td>\n",
       "      <td>1.103116e+09</td>\n",
       "    </tr>\n",
       "    <tr>\n",
       "      <td>std</td>\n",
       "      <td>189.961452</td>\n",
       "      <td>0.0</td>\n",
       "      <td>0.958981</td>\n",
       "      <td>2.145215e+08</td>\n",
       "    </tr>\n",
       "    <tr>\n",
       "      <td>min</td>\n",
       "      <td>7.000000</td>\n",
       "      <td>1.0</td>\n",
       "      <td>1.000000</td>\n",
       "      <td>8.282124e+08</td>\n",
       "    </tr>\n",
       "    <tr>\n",
       "      <td>25%</td>\n",
       "      <td>164.500000</td>\n",
       "      <td>1.0</td>\n",
       "      <td>3.000000</td>\n",
       "      <td>9.053295e+08</td>\n",
       "    </tr>\n",
       "    <tr>\n",
       "      <td>50%</td>\n",
       "      <td>353.000000</td>\n",
       "      <td>1.0</td>\n",
       "      <td>4.000000</td>\n",
       "      <td>1.079098e+09</td>\n",
       "    </tr>\n",
       "    <tr>\n",
       "      <td>75%</td>\n",
       "      <td>500.500000</td>\n",
       "      <td>1.0</td>\n",
       "      <td>5.000000</td>\n",
       "      <td>1.287368e+09</td>\n",
       "    </tr>\n",
       "    <tr>\n",
       "      <td>max</td>\n",
       "      <td>671.000000</td>\n",
       "      <td>1.0</td>\n",
       "      <td>5.000000</td>\n",
       "      <td>1.475784e+09</td>\n",
       "    </tr>\n",
       "  </tbody>\n",
       "</table>\n",
       "</div>"
      ],
      "text/plain": [
       "           userId  movieId      rating     timestamp\n",
       "count  247.000000    247.0  247.000000  2.470000e+02\n",
       "mean   338.558704      1.0    3.872470  1.103116e+09\n",
       "std    189.961452      0.0    0.958981  2.145215e+08\n",
       "min      7.000000      1.0    1.000000  8.282124e+08\n",
       "25%    164.500000      1.0    3.000000  9.053295e+08\n",
       "50%    353.000000      1.0    4.000000  1.079098e+09\n",
       "75%    500.500000      1.0    5.000000  1.287368e+09\n",
       "max    671.000000      1.0    5.000000  1.475784e+09"
      ]
     },
     "execution_count": 11,
     "metadata": {},
     "output_type": "execute_result"
    }
   ],
   "source": [
    "## remember toy story had movieId = 1\n",
    "ratings.query(\"movieId==1\").describe()"
   ]
  },
  {
   "cell_type": "code",
   "execution_count": 12,
   "metadata": {},
   "outputs": [],
   "source": [
    "### To return the correct movie, some helper functions\n",
    "def movie_name (index):\n",
    "    name =movie_info.loc[index,]['title']\n",
    "    return(name)\n",
    "\n",
    "\n",
    "def movie_name_id (mid):\n",
    "    name = movie_info[movie_info['movieId']==mid]['title']\n",
    "    return(name)\n",
    "\n",
    "## need this later:\n",
    "def find_nearestneighbour(model, X, query_ind):\n",
    "    nbs = model.kneighbors(X[query_ind], return_distance = False)\n",
    "    return(nbs)\n"
   ]
  },
  {
   "cell_type": "code",
   "execution_count": 13,
   "metadata": {},
   "outputs": [
    {
     "name": "stdout",
     "output_type": "stream",
     "text": [
      "Most reviews: 321    Forrest Gump (1994)\n",
      "Name: title, dtype: object\n",
      "Most stars: 284    Shawshank Redemption, The (1994)\n",
      "Name: title, dtype: object\n",
      "Lowest average: 1062    Santa with Muscles (1996)\n",
      "Name: title, dtype: object\n"
     ]
    },
    {
     "data": {
      "image/png": "[encoded data removed]",
      "text/plain": [
       "<Figure size 432x288 with 1 Axes>"
      ]
     },
     "metadata": {
      "needs_background": "light"
     },
     "output_type": "display_data"
    },
    {
     "data": {
      "image/png": "[encoded data removed]",
      "text/plain": [
       "<Figure size 432x288 with 1 Axes>"
      ]
     },
     "metadata": {
      "needs_background": "light"
     },
     "output_type": "display_data"
    }
   ],
   "source": [
    "## movie with the most reviews\n",
    "rev = ratings.movieId.value_counts().idxmax()\n",
    "print(\"Most reviews:\", movie_name_id(rev))\n",
    "   \n",
    "## movie with the most stars\n",
    "star = ratings.groupby('movieId').rating.sum().idxmax()\n",
    "print(\"Most stars:\", movie_name_id(star))\n",
    "\n",
    "## item with the lowest average\n",
    "low = ratings.groupby('movieId').rating.mean().idxmin()\n",
    "print(\"Lowest average:\", movie_name_id(low))\n",
    "\n",
    "## Histograms\n",
    "\n",
    "## Movie ratings\n",
    "A = ratings.movieId.value_counts()\n",
    "plt.hist(A, bins=10)  # arguments are passed to np.histogram\n",
    "plt.title(\"Histogram of number of ratings per movie\")\n",
    "plt.yscale('log', nonposy='clip')\n",
    "plt.show()\n",
    "\n",
    "## user ratings\n",
    "A = ratings.userId.value_counts()\n",
    "#np.histogram(A)\n",
    "plt.hist(A, bins=10)  # arguments are passed to np.histogram\n",
    "plt.title(\"Histogram of number of ratings per user\")\n",
    "plt.yscale('log', nonposy='clip')\n",
    "plt.show()"
   ]
  },
  {
   "cell_type": "code",
   "execution_count": 14,
   "metadata": {},
   "outputs": [
    {
     "name": "stdout",
     "output_type": "stream",
     "text": [
      "by Euclidean distance, the 5 most similar movies to Toy Story are:\n",
      "Toy Story (1995)\n",
      "Toy Story 2 (1999)\n",
      "Bug's Life, A (1998)\n",
      "Groundhog Day (1993)\n",
      "Independence Day (a.k.a. ID4) (1996)\n",
      "\n",
      "by Cosine distance, the 5 most similar movies to Toy Story are:\n",
      "Toy Story (1995)\n",
      "Toy Story 2 (1999)\n",
      "Star Wars: Episode IV - A New Hope (1977)\n",
      "Forrest Gump (1994)\n",
      "Independence Day (a.k.a. ID4) (1996)\n"
     ]
    }
   ],
   "source": [
    "## Explore some distances using KNN\n",
    "\n",
    "## fit the k neighbours model\n",
    "model = NearestNeighbors(n_neighbors=5)\n",
    "model.fit(X)\n",
    "\n",
    "## find the neighbours for Toy Story\n",
    "nbrs_e =find_nearestneighbour(model, X, 0)\n",
    "\n",
    "##return movie name\n",
    "print(\"by Euclidean distance, the 5 most similar movies to Toy Story are:\")\n",
    "for i in range(5):\n",
    "    index = nbrs_e[0][i]\n",
    "    print(movie_name(index))\n",
    "    \n",
    "## Try another distance metric\n",
    "## Cosine distance\n",
    "model = NearestNeighbors(n_neighbors=5, metric ='cosine')\n",
    "model.fit(X)\n",
    "\n",
    "nbrs_c = find_nearestneighbour(model, X, 0)\n",
    "\n",
    "## separation line\n",
    "print(\"\")\n",
    "\n",
    "##return movie name\n",
    "print(\"by Cosine distance, the 5 most similar movies to Toy Story are:\")\n",
    "for i in range(5):\n",
    "    index = nbrs_c[0][i]\n",
    "    print(movie_name(index))"
   ]
  },
  {
   "cell_type": "code",
   "execution_count": 15,
   "metadata": {},
   "outputs": [
    {
     "name": "stdout",
     "output_type": "stream",
     "text": [
      "Total stars, Euclidean distance: 164.5\n",
      "Total stars, Cosine distance: 137.5\n"
     ]
    }
   ],
   "source": [
    "## total rankings of those moveis? what's better?\n",
    "euclid = list(range(5))\n",
    "sum = 0\n",
    "for i in range(5):\n",
    "    euclid[i]=nbrs_e[0][i]\n",
    "    sum = sum+ratings[ratings['movieId']==euclid[i]].rating.sum()\n",
    "\n",
    "print(\"Total stars, Euclidean distance:\", sum)\n",
    "\n",
    "cosine = list(range(5))\n",
    "sum = 0\n",
    "for i in range(5):\n",
    "    cosine[i]=nbrs_c[0][i]\n",
    "    sum = sum+ ratings[ratings['movieId']==cosine[i]].rating.sum()\n",
    "\n",
    "print(\"Total stars, Cosine distance:\", sum)"
   ]
  },
  {
   "cell_type": "markdown",
   "metadata": {},
   "source": [
    "## SVD - Singular Value Decomposition"
   ]
  },
  {
   "cell_type": "code",
   "execution_count": 22,
   "metadata": {},
   "outputs": [
    {
     "name": "stdout",
     "output_type": "stream",
     "text": [
      "A:  [[1 2 0 3 4]\n",
      " [4 5 1 5 6]\n",
      " [3 6 1 0 5]] (3, 5)\n",
      "B:  [[ 5.11128188 -1.65483099  1.06598873]\n",
      " [ 9.99655069 -1.60432548 -0.70364338]\n",
      " [ 7.81954547  3.13266656  0.2027532 ]] (3, 3)\n",
      "C:  [[ 0.36621562  0.57223141  0.09517068  0.34891062  0.63846789]\n",
      " [ 0.08765525  0.49350434  0.10104116 -0.85853393 -0.03847328]\n",
      " [-0.68178643 -0.10147365 -0.29947609 -0.19147398  0.6312861 ]] (3, 5)\n",
      "D:  [[ 1.00000000e+00  2.00000000e+00 -3.88578059e-16  3.00000000e+00\n",
      "   4.00000000e+00]\n",
      " [ 4.00000000e+00  5.00000000e+00  1.00000000e+00  5.00000000e+00\n",
      "   6.00000000e+00]\n",
      " [ 3.00000000e+00  6.00000000e+00  1.00000000e+00 -2.49800181e-16\n",
      "   5.00000000e+00]] (3, 5)\n",
      "show that A is approximately D:\n"
     ]
    },
    {
     "name": "stderr",
     "output_type": "stream",
     "text": [
      "C:\\Users\\Amy\\AppData\\Roaming\\Python\\Python37\\site-packages\\sklearn\\utils\\validation.py:598: FutureWarning: np.matrix usage is deprecated in 1.0 and will raise a TypeError in 1.2. Please convert to a numpy array with np.asarray. For more information see: https://numpy.org/doc/stable/reference/generated/numpy.matrix.html\n",
      "  FutureWarning,\n"
     ]
    },
    {
     "data": {
      "text/plain": [
       "array([[ 0., -0., -0., -0., -0.],\n",
       "       [-0.,  0.,  0., -0.,  0.],\n",
       "       [-0., -0., -0., -0.,  0.]])"
      ]
     },
     "execution_count": 22,
     "metadata": {},
     "output_type": "execute_result"
    }
   ],
   "source": [
    "# what does SVD do?\n",
    "\n",
    "A = np.matrix([[1, 2,0,3,4], [4, 5,1,5,6], [3, 6,1,0,5]])\n",
    "## A is 3 rows, and 5 columns\n",
    "\n",
    "amy = TruncatedSVD(n_components=3) ## want 3 columns\n",
    "\n",
    "B =amy.fit_transform(A)  \n",
    "C = amy.components_\n",
    "\n",
    "## multiply B and C:\n",
    "D = np.dot(B,C) ## multiplying matrices\n",
    "\n",
    "print(\"A: \",A, A.shape)\n",
    "print(\"B: \",B, B.shape)\n",
    "print(\"C: \",C, C.shape)\n",
    "print(\"D: \",D, D.shape)\n",
    "\n",
    "print(\"show that A is approximately D:\")\n",
    "(D-A).round(5)"
   ]
  },
  {
   "cell_type": "code",
   "execution_count": 17,
   "metadata": {},
   "outputs": [],
   "source": [
    "## using the base parameters of the SVD algorithm, will reduce our large space to only 10 dimensions\n",
    "tsvd = TruncatedSVD(n_components=10)\n",
    "Z =tsvd.fit_transform(X)\n",
    "W = tsvd.components_"
   ]
  },
  {
   "cell_type": "code",
   "execution_count": 18,
   "metadata": {},
   "outputs": [
    {
     "name": "stdout",
     "output_type": "stream",
     "text": [
      "X had shape  (9066, 671)\n",
      "But Z has shape  (9066, 10)\n",
      "And W has shape  (10, 671)\n"
     ]
    }
   ],
   "source": [
    "## Let's look at Z a bit more closely:\n",
    "\n",
    "print(\"X had shape \", X.shape)\n",
    "print(\"But Z has shape \", Z.shape)\n",
    "print(\"And W has shape \",W.shape )\n",
    "\n",
    "\n",
    "\n"
   ]
  },
  {
   "cell_type": "code",
   "execution_count": 19,
   "metadata": {},
   "outputs": [],
   "source": [
    "##So:\n",
    "A =np.dot(Z,W)\n",
    "\n",
    "## has the same dimensions of X, but ist="
   ]
  },
  {
   "cell_type": "code",
   "execution_count": 20,
   "metadata": {},
   "outputs": [
    {
     "data": {
      "text/plain": [
       "array([[ True,  True,  True, ...,  True,  True,  True],\n",
       "       [ True,  True,  True, ...,  True,  True,  True],\n",
       "       [ True,  True,  True, ...,  True,  True,  True],\n",
       "       ...,\n",
       "       [ True,  True,  True, ...,  True,  True,  True],\n",
       "       [ True,  True,  True, ...,  True,  True,  True],\n",
       "       [ True,  True,  True, ...,  True,  True,  True]])"
      ]
     },
     "execution_count": 20,
     "metadata": {},
     "output_type": "execute_result"
    }
   ],
   "source": [
    "B=tsvd.inverse_transform(Z)\n",
    "\n",
    "B==A"
   ]
  },
  {
   "cell_type": "code",
   "execution_count": 21,
   "metadata": {},
   "outputs": [
    {
     "name": "stdout",
     "output_type": "stream",
     "text": [
      "Toy Story (1995)\n",
      "Groundhog Day (1993)\n",
      "Lion King, The (1994)\n",
      "Men in Black (a.k.a. MIB) (1997)\n",
      "Independence Day (a.k.a. ID4) (1996)\n"
     ]
    }
   ],
   "source": [
    "## Tehn, lets fit Nearest Neighbours on Z\n",
    "model = NearestNeighbors(n_neighbors =5)\n",
    "model.fit(Z)\n",
    "\n",
    "##find the 5 nearest neighbours, \n",
    "nbs = model.kneighbors(Z[0].reshape(1,-1),return_distance = False )\n",
    "\n",
    "\n",
    "##return movies\n",
    "for i in range(5):\n",
    "    index = nbs[0][i]\n",
    "    print(movie_name(index))"
   ]
  },
  {
   "cell_type": "code",
   "execution_count": null,
   "metadata": {},
   "outputs": [],
   "source": []
  },
  {
   "cell_type": "code",
   "execution_count": null,
   "metadata": {},
   "outputs": [],
   "source": []
  },
  {
   "cell_type": "code",
   "execution_count": null,
   "metadata": {},
   "outputs": [],
   "source": []
  },
  {
   "cell_type": "code",
   "execution_count": null,
   "metadata": {},
   "outputs": [],
   "source": []
  }
 ],
 "metadata": {
  "kernelspec": {
   "display_name": "Python 3 (ipykernel)",
   "language": "python",
   "name": "python3"
  },
  "language_info": {
   "codemirror_mode": {
    "name": "ipython",
    "version": 3
   },
   "file_extension": ".py",
   "mimetype": "text/x-python",
   "name": "python",
   "nbconvert_exporter": "python",
   "pygments_lexer": "ipython3",
   "version": "3.9.10"
  }
 },
 "nbformat": 4,
 "nbformat_minor": 2
}
