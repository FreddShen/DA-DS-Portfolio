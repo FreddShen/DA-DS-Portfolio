{
 "cells": [
  {
   "cell_type": "markdown",
   "metadata": {},
   "source": [
    "## Training more efficiently.\n",
    "\n",
    "Using a technique called cross-validation.  Basically:\n",
    "\n",
    "1. Shuffle the training set and chop the training set into k parts.\n",
    "2. Train on (k-1) parts, and test on the last one - we call that the validation set.  That's the score we are interested in.  \n",
    "* Repeat - set aside a different part and repeat. \n",
    "* We will end up with k different models.  We'll average those to find the best one.\n",
    "* Repeat the whole process on a new model.\n"
   ]
  },
  {
   "cell_type": "code",
   "execution_count": 1,
   "metadata": {},
   "outputs": [],
   "source": [
    "from sklearn.model_selection import cross_val_score\n",
    "from sklearn import tree\n",
    "from sklearn import neighbors\n",
    "from sklearn.metrics import accuracy_score\n",
    "from sklearn.model_selection import train_test_split\n",
    "from sklearn import datasets\n",
    "\n",
    "## data\n",
    "\n",
    "digits = datasets.load_digits()\n",
    "\n",
    "X = digits['data']   \n",
    "Y = digits['target']"
   ]
  },
  {
   "cell_type": "code",
   "execution_count": 2,
   "metadata": {},
   "outputs": [],
   "source": [
    "X_train, X_test, Y_train, Y_test = train_test_split(X, Y, test_size=0.2, random_state=2022)"
   ]
  },
  {
   "cell_type": "code",
   "execution_count": 16,
   "metadata": {},
   "outputs": [
    {
     "name": "stdout",
     "output_type": "stream",
     "text": [
      "We have 5 scores:  [0.4604811  0.48442907 0.47222222 0.41403509 0.48239437]\n",
      "Averaging them gives us an accuracy score of: 0.4627123683078011\n"
     ]
    }
   ],
   "source": [
    "## tree model of depth 3:\n",
    "tree_model=tree.DecisionTreeClassifier(max_depth=3, random_state=2022)\n",
    "\n",
    "## Train on 4/5 of the data, testing on the 5th, Do this 5 times\n",
    "CV_score =cross_val_score(tree_model, X_train, Y_train, cv =5)\n",
    " \n",
    "print(\"We have 5 scores: \", CV_score)\n",
    "print(\"Averaging them gives us an accuracy score of:\", CV_score.mean())"
   ]
  },
  {
   "cell_type": "code",
   "execution_count": 18,
   "metadata": {},
   "outputs": [
    {
     "name": "stdout",
     "output_type": "stream",
     "text": [
      "Training Accuracy is  0.4954766875434934\n",
      "Testing Accuracy is  0.45\n"
     ]
    }
   ],
   "source": [
    "## when we actually make the model we get:\n",
    "tree_1 = tree.DecisionTreeClassifier(max_depth=3, random_state=2021) \n",
    "tree_1 = tree_1.fit(X_train, Y_train)\n",
    "\n",
    "Y_pred = tree_1.predict(X_test)\n",
    "Y_pred_train = tree_1.predict(X_train)\n",
    "\n",
    "print (\"Training Accuracy is \", accuracy_score(Y_train,Y_pred_train))\n",
    "print (\"Testing Accuracy is \", accuracy_score(Y_test,Y_pred))"
   ]
  },
  {
   "cell_type": "code",
   "execution_count": 4,
   "metadata": {},
   "outputs": [
    {
     "name": "stdout",
     "output_type": "stream",
     "text": [
      "We have 5 scores:  [0.97222222 0.98263889 0.97909408 0.96515679 0.97909408]\n",
      "Averaging them gives us an accuracy score of: 0.9756412117692606\n"
     ]
    }
   ],
   "source": [
    "## try on a better model:\n",
    "cupcake = neighbors.KNeighborsClassifier(n_neighbors=15, p=2 )\n",
    "CV_score = cross_val_score(cupcake, X_train, Y_train, cv=5)\n",
    " \n",
    "print(\"We have 5 scores: \", CV_score)\n",
    "print(\"Averaging them gives us an accuracy score of:\", CV_score.mean())"
   ]
  },
  {
   "cell_type": "code",
   "execution_count": null,
   "metadata": {},
   "outputs": [],
   "source": []
  }
 ],
 "metadata": {
  "kernelspec": {
   "display_name": "Python 3 (ipykernel)",
   "language": "python",
   "name": "python3"
  },
  "language_info": {
   "codemirror_mode": {
    "name": "ipython",
    "version": 3
   },
   "file_extension": ".py",
   "mimetype": "text/x-python",
   "name": "python",
   "nbconvert_exporter": "python",
   "pygments_lexer": "ipython3",
   "version": "3.9.10"
  }
 },
 "nbformat": 4,
 "nbformat_minor": 2
}
