{
 "cells": [
  {
   "cell_type": "markdown",
   "metadata": {},
   "source": [
    "## Lab 3: Decision Trees SOLUTION"
   ]
  },
  {
   "cell_type": "code",
   "execution_count": 1,
   "metadata": {},
   "outputs": [],
   "source": [
    "from sklearn import neighbors\n",
    "from sklearn.model_selection import train_test_split\n",
    "from sklearn import datasets\n",
    "from sklearn import tree\n",
    "from sklearn.metrics import accuracy_score \n",
    "\n",
    "import numpy as np\n",
    "import matplotlib.pyplot as plt\n",
    "%matplotlib inline"
   ]
  },
  {
   "cell_type": "code",
   "execution_count": 3,
   "metadata": {},
   "outputs": [],
   "source": [
    "digits = datasets.load_digits()\n",
    "\n",
    "X = digits['data']   # this is the data with each 8x8 image \"flattened\" into a length-64 vector.\n",
    "Y = digits['target'] # these are the labels (0-9). \n",
    "\n",
    "X_train, X_test, Y_train, Y_test = train_test_split(X,Y, test_size=0.2)"
   ]
  },
  {
   "cell_type": "code",
   "execution_count": 4,
   "metadata": {},
   "outputs": [
    {
     "name": "stdout",
     "output_type": "stream",
     "text": [
      "The training error was:  0.5260960334029228\n",
      "The testing error was:  0.5361111111111111\n"
     ]
    }
   ],
   "source": [
    "tree_1 = tree.DecisionTreeClassifier(max_depth=3, random_state=2021)\n",
    "\n",
    "tree_1 = tree_1.fit(X_train, Y_train)\n",
    "\n",
    "Y_pred = tree_1.predict(X_test)\n",
    "\n",
    "Y_pred_train = tree_1.predict(X_train)\n",
    "\n",
    "# errors\n",
    "error_train=list(Y_train == Y_pred_train).count(False)/len(Y_train)\n",
    "error_test=list(Y_test == Y_pred).count(False)/len(Y_test)\n",
    "\n",
    "print(\"The training error was: \", error_train)\n",
    "print(\"The testing error was: \", error_test)"
   ]
  },
  {
   "cell_type": "code",
   "execution_count": 5,
   "metadata": {},
   "outputs": [
    {
     "name": "stdout",
     "output_type": "stream",
     "text": [
      "Training Accuracy is  0.48295059151009045\n",
      "Testing Accuracy is  0.42777777777777776\n",
      "Note that adding the accuracy and error is:  1.0\n"
     ]
    }
   ],
   "source": [
    "# what is the accuracy of the prediction?\n",
    "print (\"Training Accuracy is \", accuracy_score(Y_train,Y_pred_train))\n",
    "print (\"Testing Accuracy is \", accuracy_score(Y_test,Y_pred))\n",
    "\n",
    "# what is the sum of error and accuracy?\n",
    "print(\"Note that adding the accuracy and error is: \", error_train + accuracy_score(Y_train,Y_pred_train))"
   ]
  },
  {
   "cell_type": "markdown",
   "metadata": {},
   "source": [
    "3. Explore your model in the image below.  How many of the following are there?\n",
    "* Root Nodes: *1*\n",
    "* Interior Nodes: *6*\n",
    "* Leaf or Terminal Nodes: *8*"
   ]
  },
  {
   "cell_type": "code",
   "execution_count": 5,
   "metadata": {},
   "outputs": [
    {
     "data": {
      "image/png": "[encoded data removed]",
      "text/plain": [
       "<Figure size 432x288 with 1 Axes>"
      ]
     },
     "metadata": {
      "needs_background": "light"
     },
     "output_type": "display_data"
    }
   ],
   "source": [
    "tree.plot_tree(tree_1);"
   ]
  },
  {
   "cell_type": "markdown",
   "metadata": {},
   "source": [
    "#### Decision Tree hyperparameters\n",
    "\n",
    "\n",
    "* `criterion`: this tells us which method to decide which split is better, entropy or gini.\n",
    "* `splitter`: which strategy to use in splitting (ie, best or random)\n",
    "* `max_depth`: How deep our tree is\n",
    "* `min_samples_split`: the minimum number of samples we have left, in order to make a new split.\n",
    "* `min_samples_leaf`: The minimum number of samples needed to form a leaf.\n",
    "* `min_weight_fraction_leaf`: same as above, but given as a proportion of hte whole instead of an absolute number.\n",
    "* `max_features`: the number of features we consider when deciding on a split.\n"
   ]
  },
  {
   "cell_type": "code",
   "execution_count": 10,
   "metadata": {},
   "outputs": [
    {
     "data": {
      "text/plain": [
       "([0.8138888888888889,\n",
       "  0.6916666666666667,\n",
       "  0.5361111111111111,\n",
       "  0.4388888888888889,\n",
       "  0.35,\n",
       "  0.26666666666666666,\n",
       "  0.18333333333333332,\n",
       "  0.14722222222222223,\n",
       "  0.14444444444444443,\n",
       "  0.1527777777777778,\n",
       "  0.14722222222222223,\n",
       "  0.14722222222222223,\n",
       "  0.1527777777777778,\n",
       "  0.1527777777777778,\n",
       "  0.1527777777777778],\n",
       " [0.7988865692414753,\n",
       "  0.6784968684759917,\n",
       "  0.5260960334029228,\n",
       "  0.4279749478079332,\n",
       "  0.3277661795407098,\n",
       "  0.1941544885177453,\n",
       "  0.1022964509394572,\n",
       "  0.07028531663187196,\n",
       "  0.03897007654836465,\n",
       "  0.016005567153792623,\n",
       "  0.006263048016701462,\n",
       "  0.0020876826722338203,\n",
       "  0.0,\n",
       "  0.0,\n",
       "  0.0])"
      ]
     },
     "execution_count": 10,
     "metadata": {},
     "output_type": "execute_result"
    }
   ],
   "source": [
    "# what is the optimal number of depth?\n",
    "N=16  #testing up to k = 15\n",
    "\n",
    "# initialize error vectors\n",
    "error_test = [0 for j in range(0,N)] \n",
    "error_train = [0 for j in range(0,N)] \n",
    "\n",
    "for k in range(1,N):\n",
    "    # train\n",
    "    clf = tree.DecisionTreeClassifier(max_depth=k, random_state=2022)\n",
    "    clf = clf.fit(X_train, Y_train)\n",
    "    \n",
    "    # test\n",
    "    Y_pred = clf.predict(X_test)\n",
    "    Y_pred_train = clf.predict(X_train)\n",
    "    \n",
    "    # errors\n",
    "    error_train[k]=list(Y_train == Y_pred_train).count(False)/len(Y_train)\n",
    "    error_test[k]=list(Y_test == Y_pred).count(False)/len(Y_test)\n",
    "\n",
    "error_test.pop(0)\n",
    "error_train.pop(0)\n",
    "\n",
    "error_test, error_train"
   ]
  },
  {
   "cell_type": "code",
   "execution_count": 11,
   "metadata": {},
   "outputs": [
    {
     "data": {
      "image/png": "[encoded data removed]",
      "text/plain": [
       "<Figure size 432x288 with 1 Axes>"
      ]
     },
     "metadata": {
      "needs_background": "light"
     },
     "output_type": "display_data"
    }
   ],
   "source": [
    "# plot training, testing error\n",
    "K_array =list(range(1,N))\n",
    "\n",
    "test_plt=plt.scatter(K_array, error_test)\n",
    "train_plt = plt.scatter(K_array, error_train)\n",
    "plt.legend([train_plt, test_plt], ['Training error', 'Testing error'])\n",
    "plt.xlabel(\"Value of k\")\n",
    "plt.ylabel(\"Error rate\")\n",
    "plt.title(\"Errors for tree depth k\")\n",
    "plt.show()"
   ]
  },
  {
   "cell_type": "code",
   "execution_count": 12,
   "metadata": {},
   "outputs": [
    {
     "name": "stdout",
     "output_type": "stream",
     "text": [
      "My lowest test error was at a max_depth of =  9\n",
      "With a testing error of  0.14444444444444443\n",
      "And a training error of  0.03897007654836465\n"
     ]
    }
   ],
   "source": [
    "# which k is the optimal?\n",
    "# add 1, as we popped off the 0 at the begining\n",
    "k_best = np.argmin(error_test)+1\n",
    "\n",
    "print(\"My lowest test error was at a max_depth of = \",k_best)\n",
    "print(\"With a testing error of \",min(error_test))\n",
    "print(\"And a training error of \",error_train[k_best-1])"
   ]
  },
  {
   "cell_type": "code",
   "execution_count": 13,
   "metadata": {},
   "outputs": [
    {
     "data": {
      "image/png": "[encoded data removed]",
      "text/plain": [
       "<Figure size 432x288 with 1 Axes>"
      ]
     },
     "metadata": {
      "needs_background": "light"
     },
     "output_type": "display_data"
    }
   ],
   "source": [
    "## best model graph:\n",
    "best_tree = tree.DecisionTreeClassifier(max_depth = k, random_state=2022)\n",
    "best_tree = best_tree.fit(X_train, Y_train)\n",
    "\n",
    "tree.plot_tree(best_tree)"
   ]
  }
 ],
 "metadata": {
  "kernelspec": {
   "display_name": "Python 3 (ipykernel)",
   "language": "python",
   "name": "python3"
  },
  "language_info": {
   "codemirror_mode": {
    "name": "ipython",
    "version": 3
   },
   "file_extension": ".py",
   "mimetype": "text/x-python",
   "name": "python",
   "nbconvert_exporter": "python",
   "pygments_lexer": "ipython3",
   "version": "3.9.10"
  }
 },
 "nbformat": 4,
 "nbformat_minor": 2
}
