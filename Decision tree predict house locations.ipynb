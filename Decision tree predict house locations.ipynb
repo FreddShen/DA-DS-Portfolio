{
 "cells": [
  {
   "cell_type": "markdown",
   "metadata": {},
   "source": [
    "Data on about 11,000 homes sold in a single year are extracted from Zillow for 50 campus towns in the U.S. (https://www.zillow.com). The House_Prices data represent a highly simplified/modified sample of anonymized homes, excluding homes with observations that seem erroneous and/or not pertaining to sales.\n",
    "\n",
    "* `Variable` Name\tDescription or Possible Values\n",
    "* `Record`\tA modified ID for each house\n",
    "* `Sale_amount`\tSale price of the house in U.S. dollars\n",
    "* `Sale_date`\tSale date of the house\n",
    "* `Beds`\tNumber of bedrooms in the house\n",
    "* `Baths`\tNumber of bathrooms in the house\n",
    "* `Sqft_home`\tSquare footage of the house\n",
    "* `Sqft_lot`\tSquare footage of the lot\n",
    "* `Type`\tMultiple Family, Multiple Occupancy, Single Family\n",
    "* `Build_year`\tYear the house was built\n",
    "* `Town`\tName of the campus town\n",
    "* `University`\tName of the university"
   ]
  },
  {
   "cell_type": "code",
   "execution_count": 1,
   "metadata": {},
   "outputs": [],
   "source": [
    "import numpy as np\n",
    "import pandas\n",
    "import matplotlib.pyplot as plt\n",
    "%matplotlib inline\n",
    "\n",
    "from sklearn.model_selection import train_test_split\n",
    "from sklearn import tree\n",
    "from sklearn import neighbors\n",
    "from sklearn.metrics import accuracy_score\n",
    "from sklearn.model_selection import cross_val_score"
   ]
  },
  {
   "cell_type": "markdown",
   "metadata": {},
   "source": [
    "### Step 1\n",
    "\n",
    "Look at the data, by inspecting it\n",
    "\n",
    "1. How many rows are there?\n",
    "2. Looks like there are some extra columns with row markers that appeared over the cleaning process.  How many \"actual\" columns are there?\n",
    "3. Why are the dates just numbers?  Why is this ok?"
   ]
  },
  {
   "cell_type": "code",
   "execution_count": 3,
   "metadata": {},
   "outputs": [
    {
     "name": "stdout",
     "output_type": "stream",
     "text": [
      "There are  10659  rows and  13  columns\n"
     ]
    },
    {
     "data": {
      "text/html": [
       "<div>\n",
       "<style scoped>\n",
       "    .dataframe tbody tr th:only-of-type {\n",
       "        vertical-align: middle;\n",
       "    }\n",
       "\n",
       "    .dataframe tbody tr th {\n",
       "        vertical-align: top;\n",
       "    }\n",
       "\n",
       "    .dataframe thead th {\n",
       "        text-align: right;\n",
       "    }\n",
       "</style>\n",
       "<table border=\"1\" class=\"dataframe\">\n",
       "  <thead>\n",
       "    <tr style=\"text-align: right;\">\n",
       "      <th></th>\n",
       "      <th>Unnamed: 0</th>\n",
       "      <th>Record</th>\n",
       "      <th>Sale_amount</th>\n",
       "      <th>Sale_date</th>\n",
       "      <th>Beds</th>\n",
       "      <th>Baths</th>\n",
       "      <th>Sqft_home</th>\n",
       "      <th>Sqft_lot</th>\n",
       "      <th>Type</th>\n",
       "      <th>Build_year</th>\n",
       "      <th>Town</th>\n",
       "      <th>University</th>\n",
       "      <th>Type2</th>\n",
       "    </tr>\n",
       "  </thead>\n",
       "  <tbody>\n",
       "    <tr>\n",
       "      <th>0</th>\n",
       "      <td>1</td>\n",
       "      <td>1</td>\n",
       "      <td>295000.0</td>\n",
       "      <td>42521</td>\n",
       "      <td>5</td>\n",
       "      <td>3.00</td>\n",
       "      <td>2020</td>\n",
       "      <td>38332.8</td>\n",
       "      <td>3</td>\n",
       "      <td>1976</td>\n",
       "      <td>1</td>\n",
       "      <td>10</td>\n",
       "      <td>3</td>\n",
       "    </tr>\n",
       "    <tr>\n",
       "      <th>1</th>\n",
       "      <td>2</td>\n",
       "      <td>2</td>\n",
       "      <td>240000.0</td>\n",
       "      <td>42541</td>\n",
       "      <td>4</td>\n",
       "      <td>2.00</td>\n",
       "      <td>1498</td>\n",
       "      <td>54014.4</td>\n",
       "      <td>3</td>\n",
       "      <td>2002</td>\n",
       "      <td>1</td>\n",
       "      <td>10</td>\n",
       "      <td>3</td>\n",
       "    </tr>\n",
       "    <tr>\n",
       "      <th>2</th>\n",
       "      <td>3</td>\n",
       "      <td>3</td>\n",
       "      <td>385000.0</td>\n",
       "      <td>42521</td>\n",
       "      <td>5</td>\n",
       "      <td>4.00</td>\n",
       "      <td>4000</td>\n",
       "      <td>85813.2</td>\n",
       "      <td>3</td>\n",
       "      <td>2001</td>\n",
       "      <td>1</td>\n",
       "      <td>10</td>\n",
       "      <td>3</td>\n",
       "    </tr>\n",
       "    <tr>\n",
       "      <th>3</th>\n",
       "      <td>4</td>\n",
       "      <td>4</td>\n",
       "      <td>268000.0</td>\n",
       "      <td>42472</td>\n",
       "      <td>3</td>\n",
       "      <td>2.50</td>\n",
       "      <td>2283</td>\n",
       "      <td>118918.8</td>\n",
       "      <td>3</td>\n",
       "      <td>1972</td>\n",
       "      <td>1</td>\n",
       "      <td>10</td>\n",
       "      <td>3</td>\n",
       "    </tr>\n",
       "    <tr>\n",
       "      <th>4</th>\n",
       "      <td>5</td>\n",
       "      <td>5</td>\n",
       "      <td>186000.0</td>\n",
       "      <td>42465</td>\n",
       "      <td>3</td>\n",
       "      <td>1.25</td>\n",
       "      <td>1527</td>\n",
       "      <td>15681.6</td>\n",
       "      <td>3</td>\n",
       "      <td>1975</td>\n",
       "      <td>1</td>\n",
       "      <td>10</td>\n",
       "      <td>3</td>\n",
       "    </tr>\n",
       "  </tbody>\n",
       "</table>\n",
       "</div>"
      ],
      "text/plain": [
       "   Unnamed: 0  Record  Sale_amount  Sale_date  Beds  Baths  Sqft_home  \\\n",
       "0           1       1     295000.0      42521     5   3.00       2020   \n",
       "1           2       2     240000.0      42541     4   2.00       1498   \n",
       "2           3       3     385000.0      42521     5   4.00       4000   \n",
       "3           4       4     268000.0      42472     3   2.50       2283   \n",
       "4           5       5     186000.0      42465     3   1.25       1527   \n",
       "\n",
       "   Sqft_lot  Type  Build_year  Town  University  Type2  \n",
       "0   38332.8     3        1976     1          10      3  \n",
       "1   54014.4     3        2002     1          10      3  \n",
       "2   85813.2     3        2001     1          10      3  \n",
       "3  118918.8     3        1972     1          10      3  \n",
       "4   15681.6     3        1975     1          10      3  "
      ]
     },
     "execution_count": 3,
     "metadata": {},
     "output_type": "execute_result"
    }
   ],
   "source": [
    "# load dataset\n",
    "house = pandas.read_csv(\"House Prices.csv\")\n",
    "\n",
    "# shape:\n",
    "print(\"There are \",house.shape[0],\" rows and \",house.shape[1],\" columns\")\n",
    "\n",
    "house.head()"
   ]
  },
  {
   "cell_type": "code",
   "execution_count": 5,
   "metadata": {},
   "outputs": [
    {
     "name": "stdout",
     "output_type": "stream",
     "text": [
      "Now there are  10  columns\n"
     ]
    }
   ],
   "source": [
    "# cut 3 columns: Unnamed:0, Record, and Type2.\n",
    "\n",
    "df_house = house.drop(columns = ['Unnamed: 0','Record','Type2'])\n",
    "print(\"Now there are \", df_house.shape[1], \" columns\")"
   ]
  },
  {
   "cell_type": "markdown",
   "metadata": {},
   "source": [
    "Dates are difficult to deal with - do we say day/month/year or month-day-year, or (Amy's favourite), YEAR-MONTH-DAY.\n",
    "\n",
    "As a result, we often just assign them to a number - Excel counts from 1900-01-01, so January 1, 1900 is 1, and January 1, 2022 is 44,562 - that is 44,562 days makes 122 years."
   ]
  },
  {
   "cell_type": "code",
   "execution_count": 6,
   "metadata": {},
   "outputs": [],
   "source": [
    "X = df_house.drop(columns = [\"Town\", \"University\"])\n",
    "Y = df_house['Town']\n",
    "\n",
    "# split train and test\n",
    "X_train, X_test, Y_train, Y_test = train_test_split(X,Y, test_size=0.4,random_state = 2022)"
   ]
  },
  {
   "cell_type": "code",
   "execution_count": 7,
   "metadata": {},
   "outputs": [
    {
     "name": "stdout",
     "output_type": "stream",
     "text": [
      "We have 5 scores:  [0.26114152 0.25801407 0.23377639 0.27912432 0.2595778 ]\n",
      "Averaging them gives us an accuracy score of: 0.2583268178264269\n"
     ]
    },
    {
     "data": {
      "text/plain": [
       "0.00020896896458763407"
      ]
     },
     "execution_count": 7,
     "metadata": {},
     "output_type": "execute_result"
    }
   ],
   "source": [
    "# Start with a decision tree\n",
    "mdl_tree = tree.DecisionTreeClassifier(max_depth=10, random_state=2022)\n",
    "\n",
    "## Train on 4/5 of the data, testing on the 5th. Do this 5 times,\n",
    "CV_score = cross_val_score(mdl_tree, X_train, Y_train, cv=5)\n",
    "\n",
    "print(\"We have 5 scores: \", CV_score)\n",
    "print(\"Averaging them gives us an accuracy score of:\", CV_score.mean())\n",
    "\n",
    "CV_score.var()"
   ]
  },
  {
   "cell_type": "code",
   "execution_count": 9,
   "metadata": {},
   "outputs": [
    {
     "data": {
      "text/plain": [
       "[0.06473807662236122,\n",
       " 0.10070367474589523,\n",
       " 0.12556684910086005,\n",
       " 0.17498045347928068,\n",
       " 0.21720093823299455,\n",
       " 0.23455824863174354,\n",
       " 0.2406567630961689,\n",
       " 0.25566849100860045,\n",
       " 0.2606724003127443,\n",
       " 0.2583268178264269,\n",
       " 0.25566849100860045,\n",
       " 0.253635652853792,\n",
       " 0.25097732603596556,\n",
       " 0.2501954652071931,\n",
       " 0.2428459734167318]"
      ]
     },
     "execution_count": 9,
     "metadata": {},
     "output_type": "execute_result"
    }
   ],
   "source": [
    "# testing up to k = 15\n",
    "N = 16\n",
    "\n",
    "##initialize error vectors\n",
    "accuracy_CV = [0 for j in range(0,N)] \n",
    "\n",
    "## This look will train and test, and store errors for each k \n",
    "for k in range(1,N):\n",
    "    ## train\n",
    "    tree_model = tree.DecisionTreeClassifier(max_depth = k, random_state=2022)\n",
    "    CV_score =cross_val_score(tree_model, X_train, Y_train, cv =5)\n",
    "\n",
    "    ##record accuracy\n",
    "    accuracy_CV[k]=CV_score.mean()\n",
    "    \n",
    "accuracy_CV.pop(0)\n",
    "accuracy_CV"
   ]
  },
  {
   "cell_type": "code",
   "execution_count": 7,
   "metadata": {},
   "outputs": [
    {
     "name": "stdout",
     "output_type": "stream",
     "text": [
      "My highest accuracy was at a max_depth of =  9\n",
      "With a mean accuracy of  0.2606724003127443\n"
     ]
    },
    {
     "data": {
      "image/png": "[encoded data removed]",
      "text/plain": [
       "<Figure size 432x288 with 1 Axes>"
      ]
     },
     "metadata": {
      "needs_background": "light"
     },
     "output_type": "display_data"
    }
   ],
   "source": [
    "## find the location ofg the smallest test error\n",
    "## add 1, as I popped off hte 0 at hte begining\n",
    "k_best = np.argmax(accuracy_CV)+1\n",
    "\n",
    "print(\"My highest accuracy was at a max_depth of = \",k_best)\n",
    "print(\"With a mean accuracy of \",max(accuracy_CV))\n",
    "\n",
    "\n",
    "K_array =list(range(1,N))\n",
    "\n",
    "CV_plt=plt.scatter(K_array, accuracy_CV)\n",
    "plt.legend([CV_plt], ['CV Accuracy'])\n",
    "plt.xlabel(\"Value of k\")\n",
    "plt.ylabel(\"Accuracy rate\")\n",
    "plt.title(\"Accuracy for tree depth k\")\n",
    "plt.show()"
   ]
  },
  {
   "cell_type": "code",
   "execution_count": 10,
   "metadata": {},
   "outputs": [
    {
     "data": {
      "text/plain": [
       "[0.12025019546520718,\n",
       " 0.1060203283815481,\n",
       " 0.10789679437060204,\n",
       " 0.11540265832681781,\n",
       " 0.11555903049257232,\n",
       " 0.11587177482408131,\n",
       " 0.12009382329945269,\n",
       " 0.1164972634870993,\n",
       " 0.11806098514464425,\n",
       " 0.11759186864738076,\n",
       " 0.12040656763096169,\n",
       " 0.12212666145426114,\n",
       " 0.12197028928850664,\n",
       " 0.12228303362001565,\n",
       " 0.12306489444878813]"
      ]
     },
     "execution_count": 10,
     "metadata": {},
     "output_type": "execute_result"
    }
   ],
   "source": [
    "# now let's look at KNN, testing up to k = 15\n",
    "\n",
    "N=16\n",
    "\n",
    "# initialize error vectors\n",
    "KNN_CV = [0 for j in range(0,N)] \n",
    "\n",
    "#  This look will train and test, and store errors for each k \n",
    "for k in range(1,N):\n",
    "    ## train\n",
    "    knn_model = neighbors.KNeighborsClassifier(n_neighbors=k)\n",
    "    CV_score = cross_val_score(knn_model, X_train, Y_train, cv =5)\n",
    "\n",
    "    ##record accuracy\n",
    "    KNN_CV[k] = CV_score.mean()\n",
    "\n",
    "KNN_CV.pop(0)\n",
    "KNN_CV"
   ]
  },
  {
   "cell_type": "code",
   "execution_count": 9,
   "metadata": {},
   "outputs": [
    {
     "name": "stdout",
     "output_type": "stream",
     "text": [
      "My highest accuracy was at a k value of k =  15\n",
      "With a mean accuracy of  0.12306489444878813\n"
     ]
    },
    {
     "data": {
      "image/png": "[encoded data removed]",
      "text/plain": [
       "<Figure size 432x288 with 1 Axes>"
      ]
     },
     "metadata": {
      "needs_background": "light"
     },
     "output_type": "display_data"
    }
   ],
   "source": [
    "## find the location of the smallest test error\n",
    "k_best = np.argmax(KNN_CV)+1\n",
    "\n",
    "print(\"My highest accuracy was at a k value of k = \", k_best)\n",
    "print(\"With a mean accuracy of \", max(KNN_CV))\n",
    "\n",
    "K_array =list(range(1,N))\n",
    "\n",
    "CV_plt=plt.scatter(K_array, KNN_CV)\n",
    "plt.legend([CV_plt], ['CV Accuracy'])\n",
    "plt.xlabel(\"Value of k\")\n",
    "plt.ylabel(\"Accuracy rate\")\n",
    "plt.title(\"Accuracy for KNN value of k\")\n",
    "plt.show()"
   ]
  },
  {
   "cell_type": "code",
   "execution_count": 12,
   "metadata": {},
   "outputs": [
    {
     "name": "stdout",
     "output_type": "stream",
     "text": [
      "The Cross Validation Accuracy was:  0.2606724003127443\n",
      "And the training Accuracy is:  0.40781860828772476\n",
      "And the test Accuracy is:  0.27157598499061913\n"
     ]
    }
   ],
   "source": [
    "# finally choose the depth=9\n",
    "mdl_tree_best = tree.DecisionTreeClassifier(max_depth=9, random_state=2022)\n",
    "CV_score =cross_val_score(mdl_tree_best, X_train, Y_train, cv=5)\n",
    "\n",
    "# now train on ALL THE DATA\n",
    "mdl_tree_best = mdl_tree_best.fit(X_train, Y_train)\n",
    "    \n",
    "# test\n",
    "Y_pred = mdl_tree_best.predict(X_test)\n",
    "Y_pred_train = mdl_tree_best.predict(X_train)\n",
    "\n",
    "print(\"The Cross Validation Accuracy was: \", CV_score.mean())\n",
    "print(\"And the training Accuracy is: \",accuracy_score(Y_train,Y_pred_train))\n",
    "print(\"And the test Accuracy is: \",accuracy_score(Y_test,Y_pred))"
   ]
  },
  {
   "cell_type": "markdown",
   "metadata": {},
   "source": [
    "By looking at the house prices, can we predict what town the house is in?  Create a classification model to answer this question:\n",
    "\n",
    "1. Create your X and Y for the model.  We are predicting the town, so including the closest university would make the test too easy, so exclude that column, and any record IDs.\n",
    "2. Split into a Training and Test Set\n",
    "3. Start training!  Try out some models, use Cross-Validation to keep your Test data clean.  \n",
    "* Use the `accuracy_score()` to pick a good model\n",
    "* Test out your one best model using your test set.  \n",
    "* Present your findings.  Was your testing accuracy as good as your training?  What did you think happened?\n",
    "* Finally: Lee purchased a Single Family home (coded as 1) on 2018-04-11, (43201) for $350,000.  The house has 3 bedrooms and 2 bats.  It was built in 1992, and is on a 40,000 square foot lot.  What town do you think it is in?  Use your model to predict."
   ]
  },
  {
   "cell_type": "markdown",
   "metadata": {},
   "source": [
    "None of the models were amazing, but the test accuracy was better than the CV acccuracy, which is because the CV accuracy was lower than the training accuracy.  The training accuracy was actually quite high, which is why we used the CV accuracy to pick a model!\n",
    "\n",
    "It's worth saying that 27% accuracy on classifying 50 towns isn't terrible - the base accuracy if we guess randomly would be 2%."
   ]
  },
  {
   "cell_type": "code",
   "execution_count": 14,
   "metadata": {},
   "outputs": [
    {
     "data": {
      "text/plain": [
       "array([16])"
      ]
     },
     "execution_count": 14,
     "metadata": {},
     "output_type": "execute_result"
    }
   ],
   "source": [
    "# use the mean squarefootage from the original set:\n",
    "sqft = house[[\"Sqft_home\"]].mean() # sqft[0] gives the number, sqft[1] gives me the type\n",
    "\n",
    "lee = pandas.DataFrame({\"Sale_amount\":350000, \n",
    "                      \"Sale_date\" :43201, \n",
    "                      \"Beds\" : 3, \n",
    "                      \"Baths\":2,\n",
    "                      \"Sqft_home\": sqft[0],\n",
    "                      \"Sqft_lot\":40000,\n",
    "                       \"Type\": 1,\n",
    "                     \"Build_year\":1992},\n",
    "                     index = [1])\n",
    "\n",
    "mdl_tree_best.predict(lee)"
   ]
  },
  {
   "cell_type": "markdown",
   "metadata": {},
   "source": [
    "Town 16 is: Charlottesville, VA"
   ]
  }
 ],
 "metadata": {
  "kernelspec": {
   "display_name": "Python 3 (ipykernel)",
   "language": "python",
   "name": "python3"
  },
  "language_info": {
   "codemirror_mode": {
    "name": "ipython",
    "version": 3
   },
   "file_extension": ".py",
   "mimetype": "text/x-python",
   "name": "python",
   "nbconvert_exporter": "python",
   "pygments_lexer": "ipython3",
   "version": "3.9.10"
  }
 },
 "nbformat": 4,
 "nbformat_minor": 2
}
